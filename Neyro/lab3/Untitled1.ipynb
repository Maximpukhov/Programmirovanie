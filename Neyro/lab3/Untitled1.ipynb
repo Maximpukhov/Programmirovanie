{
  "nbformat": 4,
  "nbformat_minor": 0,
  "metadata": {
    "colab": {
      "provenance": []
    },
    "kernelspec": {
      "name": "python3",
      "display_name": "Python 3"
    },
    "language_info": {
      "name": "python"
    }
  },
  "cells": [
    {
      "cell_type": "code",
      "execution_count": null,
      "metadata": {
        "id": "H1U5obYIydyY"
      },
      "outputs": [],
      "source": [
        "import matplotlib.pyplot as plt\n",
        "import seaborn as sns\n",
        "from sklearn.datasets import load_iris\n",
        "from sklearn.model_selection import train_test_split\n",
        "from sklearn.ensemble import RandomForestClassifier\n",
        "from sklearn.metrics import classification_report, confusion_matrix\n",
        "from sklearn.decomposition import PCA\n",
        "import pandas as pd\n",
        "\n",
        "# Загрузка данных\n",
        "iris = load_iris()\n",
        "X = iris.data\n",
        "y = iris.target\n",
        "feature_names = iris.feature_names\n",
        "target_names = iris.target_names\n",
        "\n",
        "# Преобразование в DataFrame\n",
        "df = pd.DataFrame(X, columns=feature_names)\n",
        "df['target'] = y\n",
        "\n",
        "# Распределения признаков\n",
        "sns.pairplot(df, hue='target', palette='Set1')\n",
        "plt.suptitle('Начальная разметка по классам', y=1.02)\n",
        "plt.show()\n",
        "\n",
        "# PCA для визуализации результатов классификации\n",
        "pca = PCA(n_components=2)\n",
        "X_pca = pca.fit_transform(X)\n",
        "\n",
        "# Обучение модели\n",
        "X_train, X_test, y_train, y_test = train_test_split(X, y, test_size=0.2, random_state=42)\n",
        "clf = RandomForestClassifier(random_state=42)\n",
        "clf.fit(X_train, y_train)\n",
        "y_pred = clf.predict(X_test)\n",
        "\n",
        "# Метрики\n",
        "print(\"Отчет по классификации:\")\n",
        "print(classification_report(y_test, y_pred, target_names=target_names))\n",
        "\n",
        "# Матрица ошибок\n",
        "sns.heatmap(confusion_matrix(y_test, y_pred), annot=True, fmt='d', xticklabels=target_names, yticklabels=target_names)\n",
        "plt.xlabel('Предсказано')\n",
        "plt.ylabel('Истинное значение')\n",
        "plt.title('Матрица ошибок')\n",
        "plt.show()\n",
        "\n",
        "# График результатов PCA\n",
        "plt.figure(figsize=(8, 6))\n",
        "scatter = plt.scatter(X_pca[:, 0], X_pca[:, 1], c=y_pred, cmap='Set1', edgecolor='k')\n",
        "plt.legend(handles=scatter.legend_elements()[0], labels=target_names)\n",
        "plt.title('Предсказанная классификация (PCA)')\n",
        "plt.xlabel('PCA 1')\n",
        "plt.ylabel('PCA 2')\n",
        "plt.show()"
      ]
    }
  ]
}