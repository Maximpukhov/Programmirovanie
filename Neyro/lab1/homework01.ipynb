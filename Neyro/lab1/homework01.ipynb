{
 "cells": [
  {
   "cell_type": "markdown",
   "metadata": {},
   "source": [
    "# Home Work 01 \n",
    "1. Numpy \n",
    "1. Pytorch (tensor (basic operations))"
   ]
  },
  {
   "cell_type": "markdown",
   "metadata": {},
   "source": [
    "# DEADLINE\n",
    "\n",
    "### IS-142 - 08.10.24 \n",
    "### IS-141 - 15.10.24"
   ]
  },
  {
   "cell_type": "markdown",
   "metadata": {},
   "source": [
    "## BLOKE №1 (numpy) "
   ]
  },
  {
   "cell_type": "markdown",
   "metadata": {},
   "source": [
    "1. Импортировать NumPy под именем np"
   ]
  },
  {
   "cell_type": "code",
   "execution_count": 2,
   "metadata": {},
   "outputs": [],
   "source": [
    "import numpy as np\n"
   ]
  },
  {
   "cell_type": "markdown",
   "metadata": {},
   "source": [
    "2. Создать вектор (одномерный массив) размера 20, заполненный нулями"
   ]
  },
  {
   "cell_type": "code",
   "execution_count": 8,
   "metadata": {},
   "outputs": [
    {
     "data": {
      "text/plain": [
       "array([0., 0., 0., 0., 0., 0., 0., 0., 0., 0., 0., 0., 0., 0., 0., 0., 0.,\n",
       "       0., 0., 0.])"
      ]
     },
     "execution_count": 8,
     "metadata": {},
     "output_type": "execute_result"
    }
   ],
   "source": [
    "np.zeros(20)"
   ]
  },
  {
   "cell_type": "markdown",
   "metadata": {},
   "source": [
    "3. Создать вектор размера 20, заполненный числом 1.75"
   ]
  },
  {
   "cell_type": "code",
   "execution_count": 11,
   "metadata": {},
   "outputs": [
    {
     "data": {
      "text/plain": [
       "array([1.75, 1.75, 1.75, 1.75, 1.75, 1.75, 1.75, 1.75, 1.75, 1.75, 1.75,\n",
       "       1.75, 1.75, 1.75, 1.75, 1.75, 1.75, 1.75, 1.75, 1.75])"
      ]
     },
     "execution_count": 11,
     "metadata": {},
     "output_type": "execute_result"
    }
   ],
   "source": [
    "np.full((20),1.75)"
   ]
  },
  {
   "cell_type": "markdown",
   "metadata": {},
   "source": [
    "4. Создать вектор со значениями от 4 до 31"
   ]
  },
  {
   "cell_type": "code",
   "execution_count": 14,
   "metadata": {},
   "outputs": [
    {
     "data": {
      "text/plain": [
       "array([ 4,  5,  6,  7,  8,  9, 10, 11, 12, 13, 14, 15, 16, 17, 18, 19, 20,\n",
       "       21, 22, 23, 24, 25, 26, 27, 28, 29, 30, 31])"
      ]
     },
     "execution_count": 14,
     "metadata": {},
     "output_type": "execute_result"
    }
   ],
   "source": [
    "np.arange(4, 32, 1)"
   ]
  },
  {
   "cell_type": "markdown",
   "metadata": {},
   "source": [
    "5. Развернуть вектор (первый становится последним)"
   ]
  },
  {
   "cell_type": "code",
   "execution_count": 20,
   "metadata": {},
   "outputs": [
    {
     "data": {
      "text/plain": [
       "array([31, 30, 29, 28, 27, 26, 25, 24, 23, 22, 21, 20, 19, 18, 17, 16, 15,\n",
       "       14, 13, 12, 11, 10,  9,  8,  7,  6,  5,  4])"
      ]
     },
     "execution_count": 20,
     "metadata": {},
     "output_type": "execute_result"
    }
   ],
   "source": [
    "np.arange(4, 32)[::-1]\n"
   ]
  },
  {
   "cell_type": "markdown",
   "metadata": {},
   "source": [
    "6. Создать матрицу (двумерный массив) 3x3 со значениями от 1 до 9"
   ]
  },
  {
   "cell_type": "code",
   "execution_count": 29,
   "metadata": {},
   "outputs": [
    {
     "data": {
      "text/plain": [
       "array([[1, 2, 3],\n",
       "       [4, 5, 6],\n",
       "       [7, 8, 9]])"
      ]
     },
     "execution_count": 29,
     "metadata": {},
     "output_type": "execute_result"
    }
   ],
   "source": [
    "np.reshape(np.arange(1, 10, 1), (3, 3))"
   ]
  },
  {
   "cell_type": "markdown",
   "metadata": {},
   "source": [
    "7. Создать 3x3 единичную матрицу"
   ]
  },
  {
   "cell_type": "code",
   "execution_count": 24,
   "metadata": {},
   "outputs": [
    {
     "data": {
      "text/plain": [
       "array([[1., 0., 0.],\n",
       "       [0., 1., 0.],\n",
       "       [0., 0., 1.]])"
      ]
     },
     "execution_count": 24,
     "metadata": {},
     "output_type": "execute_result"
    }
   ],
   "source": [
    "np.eye(3,3)"
   ]
  },
  {
   "cell_type": "markdown",
   "metadata": {},
   "source": [
    "8. Создать 4x4 пустую матрицу"
   ]
  },
  {
   "cell_type": "code",
   "execution_count": 21,
   "metadata": {},
   "outputs": [
    {
     "data": {
      "text/plain": [
       "array([[4.64757490e-310, 0.00000000e+000, 2.41907520e-312,\n",
       "        2.14321575e-312],\n",
       "       [2.46151512e-312, 2.31297541e-312, 2.35541533e-312,\n",
       "        2.05833592e-312],\n",
       "       [2.22809558e-312, 2.56761491e-312, 2.48273508e-312,\n",
       "        2.05833592e-312],\n",
       "       [2.05833592e-312, 2.29175545e-312, 2.07955588e-312,\n",
       "        2.14321575e-312]])"
      ]
     },
     "execution_count": 21,
     "metadata": {},
     "output_type": "execute_result"
    }
   ],
   "source": [
    "np.empty((4,4))"
   ]
  },
  {
   "cell_type": "markdown",
   "metadata": {},
   "source": [
    "9. Создать единичную матрицу 4x4 со сдвигом на единицу вниз относительно главной диагонали"
   ]
  },
  {
   "cell_type": "code",
   "execution_count": 22,
   "metadata": {},
   "outputs": [
    {
     "data": {
      "text/plain": [
       "array([[0., 0., 0., 0.],\n",
       "       [1., 0., 0., 0.],\n",
       "       [0., 1., 0., 0.],\n",
       "       [0., 0., 1., 0.]])"
      ]
     },
     "execution_count": 22,
     "metadata": {},
     "output_type": "execute_result"
    }
   ],
   "source": [
    "np.eye(4, 4, -1)"
   ]
  },
  {
   "cell_type": "markdown",
   "metadata": {},
   "source": [
    "10. Создать тензор 3x3x3 со случайными значениями"
   ]
  },
  {
   "cell_type": "code",
   "execution_count": 6,
   "metadata": {},
   "outputs": [
    {
     "data": {
      "text/plain": [
       "array([[[0.75534793, 0.15335813, 0.28507211],\n",
       "        [0.3879728 , 0.04967174, 0.48135059],\n",
       "        [0.88835176, 0.57260965, 0.95054442]],\n",
       "\n",
       "       [[0.93853984, 0.22326793, 0.8066197 ],\n",
       "        [0.15835389, 0.62360505, 0.13690071],\n",
       "        [0.84727965, 0.65096701, 0.92716504]],\n",
       "\n",
       "       [[0.85818459, 0.54090467, 0.35776641],\n",
       "        [0.82679617, 0.21992577, 0.22749261],\n",
       "        [0.35499066, 0.88219396, 0.22763054]]])"
      ]
     },
     "execution_count": 6,
     "metadata": {},
     "output_type": "execute_result"
    }
   ],
   "source": [
    "np.random.random((3,3,3))"
   ]
  },
  {
   "cell_type": "markdown",
   "metadata": {},
   "source": [
    "11. Создать массив 5x5 со случайными значениями, найти минимум и максимум"
   ]
  },
  {
   "cell_type": "code",
   "execution_count": 15,
   "metadata": {},
   "outputs": [
    {
     "name": "stdout",
     "output_type": "stream",
     "text": [
      "[[0.95866217 0.04127306 0.52551354 0.19029604 0.38143896]\n",
      " [0.3156127  0.32628287 0.49137314 0.90242954 0.14001233]\n",
      " [0.02297377 0.4736566  0.2686871  0.25053715 0.33967162]\n",
      " [0.13980184 0.9167942  0.31971408 0.12809243 0.00856989]\n",
      " [0.14424537 0.19812705 0.97786699 0.48963594 0.09936301]]\n",
      "0.008569890390194734\n",
      "0.9778669933612524\n"
     ]
    }
   ],
   "source": [
    "A = np.random.random((5,5))\n",
    "print(A)\n",
    "print(np.min(A))\n",
    "print(np.max(A))"
   ]
  },
  {
   "cell_type": "markdown",
   "metadata": {},
   "source": [
    "12. Создать случайный вектор размера 50 и найти среднее значение всех элементов"
   ]
  },
  {
   "cell_type": "code",
   "execution_count": 26,
   "metadata": {},
   "outputs": [
    {
     "name": "stdout",
     "output_type": "stream",
     "text": [
      "[0.06969806 0.21153508 0.94896193 0.55329153 0.41912463 0.76935315\n",
      " 0.37392603 0.70751351 0.34627842 0.70954469 0.62889113 0.28524264\n",
      " 0.05147067 0.68845397 0.40970442 0.29056331 0.53303589 0.95912108\n",
      " 0.20061425 0.23001779 0.2241019  0.774664   0.19393308 0.51413088\n",
      " 0.82908745 0.00874303 0.94814345 0.25290196 0.78277683 0.2374742\n",
      " 0.59719476 0.69589974 0.60284508 0.51672195 0.40290105 0.59621769\n",
      " 0.90853322 0.92418719 0.64623259 0.04230427 0.38253963 0.61086739\n",
      " 0.14783054 0.05757043 0.53444227 0.25487623 0.10279028 0.28883667\n",
      " 0.21197534 0.82198224]\n",
      "0.46998094995943623\n"
     ]
    }
   ],
   "source": [
    "A = np.random.random((50))\n",
    "print(A)\n",
    "print(np.mean(A))"
   ]
  },
  {
   "cell_type": "markdown",
   "metadata": {},
   "source": [
    "13. Создать матрицу с 0 внутри, и 1 на границах"
   ]
  },
  {
   "cell_type": "code",
   "execution_count": 65,
   "metadata": {},
   "outputs": [
    {
     "name": "stdout",
     "output_type": "stream",
     "text": [
      "[[1 1 1 1 1]\n",
      " [1 0 0 0 1]\n",
      " [1 0 0 0 1]\n",
      " [1 0 0 0 1]\n",
      " [1 1 1 1 1]]\n"
     ]
    }
   ],
   "source": [
    "matrix = np.ones((5, 5), dtype = int)  \n",
    "matrix[1:-1, 1:-1] = 0 \n",
    "print(matrix)"
   ]
  },
  {
   "cell_type": "markdown",
   "metadata": {},
   "source": [
    "14. Создать 5x5 матрицу с 1,2,3,4 под диагональю"
   ]
  },
  {
   "cell_type": "code",
   "execution_count": 18,
   "metadata": {},
   "outputs": [
    {
     "data": {
      "text/plain": [
       "array([[0, 0, 0, 0, 0],\n",
       "       [1, 0, 0, 0, 0],\n",
       "       [0, 2, 0, 0, 0],\n",
       "       [0, 0, 3, 0, 0],\n",
       "       [0, 0, 0, 4, 0]])"
      ]
     },
     "execution_count": 18,
     "metadata": {},
     "output_type": "execute_result"
    }
   ],
   "source": [
    "arr = np.array([1, 2, 3 ,4 ])\n",
    "np.diag(arr, -1)"
   ]
  },
  {
   "cell_type": "markdown",
   "metadata": {},
   "source": [
    "15. Перемножить матрицы 5x3 и 3x2"
   ]
  },
  {
   "cell_type": "code",
   "execution_count": 20,
   "metadata": {},
   "outputs": [
    {
     "name": "stdout",
     "output_type": "stream",
     "text": [
      "[[0.2025699  0.40101816 0.43190236]\n",
      " [0.09283438 0.20510704 0.74084578]\n",
      " [0.55514777 0.83811448 0.69282076]\n",
      " [0.82336822 0.06815567 0.85487562]\n",
      " [0.77324279 0.54155709 0.31271388]]\n",
      "[[0.83166831 0.67209544]\n",
      " [0.84660332 0.33082354]\n",
      " [0.82743187 0.09564907]]\n",
      "[[0.86534406 0.31012361]\n",
      " [0.86385112 0.201109  ]\n",
      " [1.74451129 0.71664794]\n",
      " [1.44982141 0.65769758]\n",
      " [1.36031499 0.72876358]]\n"
     ]
    }
   ],
   "source": [
    "mat = np.random.random((5,3))\n",
    "mat1 = np.random.random((3, 2))\n",
    "print(mat)\n",
    "print(mat1)\n",
    "print(np.dot(mat, mat1))"
   ]
  },
  {
   "cell_type": "markdown",
   "metadata": {},
   "source": [
    "16. Создать вектор состоящий из 15 элементов, поменять знак у элементов, значения которых между 6 и 12 "
   ]
  },
  {
   "cell_type": "code",
   "execution_count": 33,
   "metadata": {},
   "outputs": [
    {
     "name": "stdout",
     "output_type": "stream",
     "text": [
      "[  0   1   2   3   4   5   6  -7  -8  -9 -10 -11  12  13  14]\n"
     ]
    }
   ],
   "source": [
    "vec = np.arange(15)\n",
    "vec = np.where((vec > 6) & (vec < 12), -vec, vec)\n",
    "print(vec)"
   ]
  },
  {
   "cell_type": "markdown",
   "metadata": {},
   "source": [
    "17. Создать 2 матрицы A(3x3) и B(3x3), получить матрицу С путем поэлеметного умножения."
   ]
  },
  {
   "cell_type": "code",
   "execution_count": null,
   "metadata": {},
   "outputs": [
    {
     "name": "stdout",
     "output_type": "stream",
     "text": [
      "[[  0  11  24]\n",
      " [ 39  56  75]\n",
      " [ 96 119 144]]\n"
     ]
    }
   ],
   "source": [
    "A = np.arange(9).reshape(3,3)\n",
    "B = np.arange(10, 19).reshape(3,3)\n",
    "C = A * B\n",
    "print(C)"
   ]
  },
  {
   "cell_type": "markdown",
   "metadata": {},
   "source": [
    "18. Найти максимальные и минимальные значения матрицы С по строкам и столбцам"
   ]
  },
  {
   "cell_type": "code",
   "execution_count": 42,
   "metadata": {},
   "outputs": [
    {
     "name": "stdout",
     "output_type": "stream",
     "text": [
      "[[  0  11  24]\n",
      " [ 39  56  75]\n",
      " [ 96 150 144]]\n",
      "[ 96 150 144]\n",
      "[ 24  75 150]\n",
      "[ 0 11 24]\n",
      "[ 0 39 96]\n"
     ]
    }
   ],
   "source": [
    "A = np.arange(9).reshape(3,3)\n",
    "B = np.arange(10, 19).reshape(3,3)\n",
    "C = A * B\n",
    "C[2][1] = 150\n",
    "print(C)\n",
    "print(np.max(C, axis = 0)) # столбец\n",
    "print(np.max(C, axis = 1)) # строка\n",
    "print(np.min(C, axis = 0)) # столбец\n",
    "print(np.min(C, axis = 1)) # строка"
   ]
  },
  {
   "cell_type": "markdown",
   "metadata": {},
   "source": [
    "19. Создать вектор со значениями от 0 до 1 c 10 наблюдениями"
   ]
  },
  {
   "cell_type": "code",
   "execution_count": 38,
   "metadata": {},
   "outputs": [
    {
     "data": {
      "text/plain": [
       "array([0.67028477, 0.65466747, 0.3074418 , 0.37490163, 0.39819331,\n",
       "       0.80912462, 0.69717832, 0.20711713, 0.80882421, 0.99369785])"
      ]
     },
     "execution_count": 38,
     "metadata": {},
     "output_type": "execute_result"
    }
   ],
   "source": [
    "np.random.random(10)\n"
   ]
  },
  {
   "cell_type": "markdown",
   "metadata": {},
   "source": [
    "20. Отсортировать вектор"
   ]
  },
  {
   "cell_type": "code",
   "execution_count": 23,
   "metadata": {},
   "outputs": [
    {
     "name": "stdout",
     "output_type": "stream",
     "text": [
      "[15 14 13 12 11 10  9  8  7  6  5  4  3  2  1]\n",
      "[ 1  2  3  4  5  6  7  8  9 10 11 12 13 14 15]\n"
     ]
    }
   ],
   "source": [
    "vec = np.arange(15, 0, -1)\n",
    "print(vec)\n",
    "print(np.sort(vec))"
   ]
  },
  {
   "cell_type": "markdown",
   "metadata": {},
   "source": [
    "21. Проверить, одинаковы ли 2 numpy массива"
   ]
  },
  {
   "cell_type": "code",
   "execution_count": 35,
   "metadata": {},
   "outputs": [
    {
     "name": "stdout",
     "output_type": "stream",
     "text": [
      "True\n"
     ]
    }
   ],
   "source": [
    "a = np.array([1, 2, 3])\n",
    "b = np.array([1, 2, 3])\n",
    "print(np.array_equal(a, b))"
   ]
  },
  {
   "cell_type": "markdown",
   "metadata": {},
   "source": [
    "22. Сделать массив неизменяемым"
   ]
  },
  {
   "cell_type": "code",
   "execution_count": 66,
   "metadata": {},
   "outputs": [
    {
     "ename": "ValueError",
     "evalue": "assignment destination is read-only",
     "output_type": "error",
     "traceback": [
      "\u001b[0;31m---------------------------------------------------------------------------\u001b[0m",
      "\u001b[0;31mValueError\u001b[0m                                Traceback (most recent call last)",
      "Cell \u001b[0;32mIn[66], line 3\u001b[0m\n\u001b[1;32m      1\u001b[0m arr \u001b[38;5;241m=\u001b[39m np\u001b[38;5;241m.\u001b[39marray([\u001b[38;5;241m1\u001b[39m, \u001b[38;5;241m2\u001b[39m, \u001b[38;5;241m3\u001b[39m])\n\u001b[1;32m      2\u001b[0m arr\u001b[38;5;241m.\u001b[39mflags\u001b[38;5;241m.\u001b[39mwriteable \u001b[38;5;241m=\u001b[39m \u001b[38;5;28;01mFalse\u001b[39;00m \n\u001b[0;32m----> 3\u001b[0m \u001b[43marr\u001b[49m\u001b[43m[\u001b[49m\u001b[38;5;241;43m0\u001b[39;49m\u001b[43m]\u001b[49m \u001b[38;5;241m=\u001b[39m \u001b[38;5;241m3\u001b[39m\n",
      "\u001b[0;31mValueError\u001b[0m: assignment destination is read-only"
     ]
    }
   ],
   "source": [
    "arr = np.array([1, 2, 3])\n",
    "arr.flags.writeable = False \n",
    "arr[0] = 3"
   ]
  },
  {
   "cell_type": "markdown",
   "metadata": {},
   "source": [
    "23. Создать случайный вектор из 20 элементов, найти квантиль от 10% и от 80%"
   ]
  },
  {
   "cell_type": "code",
   "execution_count": 44,
   "metadata": {},
   "outputs": [
    {
     "name": "stdout",
     "output_type": "stream",
     "text": [
      "1.9000000000000001\n",
      "15.200000000000001\n"
     ]
    }
   ],
   "source": [
    "vec = np.arange(20)\n",
    "print(np.quantile(vec, 0.1))\n",
    "print(np.quantile(vec, 0.8))"
   ]
  },
  {
   "cell_type": "markdown",
   "metadata": {},
   "source": [
    "24. Создать массив любой размерности состоящий из int и string"
   ]
  },
  {
   "cell_type": "code",
   "execution_count": 54,
   "metadata": {},
   "outputs": [
    {
     "data": {
      "text/plain": [
       "array([1, 2, 'str'], dtype=object)"
      ]
     },
     "execution_count": 54,
     "metadata": {},
     "output_type": "execute_result"
    }
   ],
   "source": [
    "np.array([1, 2,  \"str\"],dtype = object)\n"
   ]
  },
  {
   "cell_type": "markdown",
   "metadata": {},
   "source": [
    "25. Найти минимальное и максимальное значение, принимаемое каждым числовым типом numpy"
   ]
  },
  {
   "cell_type": "code",
   "execution_count": null,
   "metadata": {},
   "outputs": [
    {
     "name": "stdout",
     "output_type": "stream",
     "text": [
      "-1.7976931348623157e+308\n",
      "-9223372036854775808\n"
     ]
    }
   ],
   "source": [
    "print(np.finfo(np.float64).min) \n",
    "print(np.iinfo(np.int64).min)\n",
    "## меняем ,узнаем остальные.\n"
   ]
  },
  {
   "cell_type": "markdown",
   "metadata": {},
   "source": [
    "26. Преобразовать массив из float в int"
   ]
  },
  {
   "cell_type": "code",
   "execution_count": 58,
   "metadata": {},
   "outputs": [
    {
     "name": "stdout",
     "output_type": "stream",
     "text": [
      "float64\n",
      "int64\n",
      "[1 3]\n"
     ]
    }
   ],
   "source": [
    "vec = np.array([1.2, 3.5])\n",
    "print(vec.dtype)\n",
    "vec = vec.astype(np.int64)\n",
    "print(vec.dtype)\n",
    "print(vec)"
   ]
  },
  {
   "cell_type": "markdown",
   "metadata": {},
   "source": [
    "27. Отнять среднее из каждой строки в матрице"
   ]
  },
  {
   "cell_type": "code",
   "execution_count": 48,
   "metadata": {},
   "outputs": [
    {
     "name": "stdout",
     "output_type": "stream",
     "text": [
      "[[ 0  1  2  3  4]\n",
      " [ 5  6  7  8  9]\n",
      " [10 11 12 13 14]\n",
      " [15 16 17 18 19]\n",
      " [20 21 22 23 24]]\n",
      "[[-12. -11. -10.  -9.  -8.]\n",
      " [ -7.  -6.  -5.  -4.  -3.]\n",
      " [ -2.  -1.   0.   1.   2.]\n",
      " [  3.   4.   5.   6.   7.]\n",
      " [  8.   9.  10.  11.  12.]]\n"
     ]
    }
   ],
   "source": [
    "mat = np.arange(25).reshape(5,5)\n",
    "print(mat)\n",
    "mat = mat - np.average(mat)\n",
    "print(mat)"
   ]
  },
  {
   "cell_type": "markdown",
   "metadata": {},
   "source": [
    "28. \n",
    "\n",
    "Дана данные из файла.\n",
    "\n",
    "1,2,3,4,5\n",
    "\n",
    "6,,,7,8\n",
    "\n",
    ",,9,10,11\n",
    "\n",
    "Необходимо прочитать его\n"
   ]
  },
  {
   "cell_type": "code",
   "execution_count": null,
   "metadata": {},
   "outputs": [
    {
     "name": "stdout",
     "output_type": "stream",
     "text": [
      "[[ 1.  2.  3.  4.  5.]\n",
      " [ 6. nan nan  7.  8.]\n",
      " [nan nan  9. 10. 11.]]\n"
     ]
    }
   ],
   "source": [
    "import numpy as np\n",
    "import io\n",
    "\n",
    "# Исходная строка\n",
    "str_data = \"1,2,3,4,5\\n6,,,7,8\\n,,9,10,11\"\n",
    "\n",
    "data = np.genfromtxt(io.StringIO(str_data), delimiter=\",\", dtype=float)\n",
    "\n",
    "print(data)\n"
   ]
  },
  {
   "cell_type": "markdown",
   "metadata": {},
   "source": [
    "29. Посчитайте сумму квадратов натуральных чисел от 1 до 10000."
   ]
  },
  {
   "cell_type": "code",
   "execution_count": 46,
   "metadata": {},
   "outputs": [
    {
     "name": "stdout",
     "output_type": "stream",
     "text": [
      "333283335000\n"
     ]
    }
   ],
   "source": [
    "vec = np.arange(1,10000)\n",
    "vec = np.power(vec,2)\n",
    "print(np.sum(vec))"
   ]
  },
  {
   "cell_type": "markdown",
   "metadata": {},
   "source": [
    "## BLOKE №2 (tensors) "
   ]
  },
  {
   "cell_type": "markdown",
   "metadata": {},
   "source": [
    "1. Импортируйте pytorch"
   ]
  },
  {
   "cell_type": "code",
   "execution_count": 4,
   "metadata": {},
   "outputs": [],
   "source": [
    "import torch\n"
   ]
  },
  {
   "cell_type": "markdown",
   "metadata": {},
   "source": [
    "2. Создать вектор состящий из 10 элементов"
   ]
  },
  {
   "cell_type": "code",
   "execution_count": 3,
   "metadata": {},
   "outputs": [
    {
     "data": {
      "text/plain": [
       "tensor([0., 0., 0., 0., 0., 0., 0., 0., 0., 0.])"
      ]
     },
     "execution_count": 3,
     "metadata": {},
     "output_type": "execute_result"
    }
   ],
   "source": [
    "torch.empty(10)"
   ]
  },
  {
   "cell_type": "markdown",
   "metadata": {},
   "source": [
    "3. Создать тензор из python list"
   ]
  },
  {
   "cell_type": "code",
   "execution_count": 27,
   "metadata": {},
   "outputs": [
    {
     "data": {
      "text/plain": [
       "tensor([1, 2, 3, 4, 5])"
      ]
     },
     "execution_count": 27,
     "metadata": {},
     "output_type": "execute_result"
    }
   ],
   "source": [
    "torch.tensor([1, 2, 3, 4, 5])"
   ]
  },
  {
   "cell_type": "markdown",
   "metadata": {},
   "source": [
    "4. Создать тензор из np.array"
   ]
  },
  {
   "cell_type": "code",
   "execution_count": 10,
   "metadata": {},
   "outputs": [
    {
     "data": {
      "text/plain": [
       "tensor([1, 2, 3, 4, 5])"
      ]
     },
     "execution_count": 10,
     "metadata": {},
     "output_type": "execute_result"
    }
   ],
   "source": [
    "torch.tensor(np.array([1, 2, 3, 4, 5]))"
   ]
  },
  {
   "cell_type": "markdown",
   "metadata": {},
   "source": [
    "5. Создать тензор с нормальным распределением"
   ]
  },
  {
   "cell_type": "code",
   "execution_count": 8,
   "metadata": {},
   "outputs": [
    {
     "data": {
      "text/plain": [
       "tensor([[-1.3165,  0.0921,  0.4379],\n",
       "        [-1.0987,  1.3901,  0.7556],\n",
       "        [ 0.5183, -0.9251,  0.7718]])"
      ]
     },
     "execution_count": 8,
     "metadata": {},
     "output_type": "execute_result"
    }
   ],
   "source": [
    "torch.randn(3,3)\n"
   ]
  },
  {
   "cell_type": "markdown",
   "metadata": {},
   "source": [
    "6. Создать тензор размером 3х3х3"
   ]
  },
  {
   "cell_type": "code",
   "execution_count": 7,
   "metadata": {},
   "outputs": [
    {
     "data": {
      "text/plain": [
       "tensor([[[ 0.4712,  1.0092, -0.3479],\n",
       "         [-0.5240,  0.0773,  1.8535],\n",
       "         [ 0.0400, -0.0450, -0.2111]],\n",
       "\n",
       "        [[ 0.2977,  0.1869, -0.0382],\n",
       "         [-0.3762, -1.4439, -0.5544],\n",
       "         [-0.1260, -0.3439, -0.5278]],\n",
       "\n",
       "        [[ 1.7295, -0.9962,  2.9198],\n",
       "         [ 0.0628,  1.0352,  1.1672],\n",
       "         [-0.0356,  0.9669,  0.0057]]])"
      ]
     },
     "execution_count": 7,
     "metadata": {},
     "output_type": "execute_result"
    }
   ],
   "source": [
    "torch.randn(3,3,3)"
   ]
  },
  {
   "cell_type": "markdown",
   "metadata": {},
   "source": [
    "7. Создать единичную матрицу размером 4х5"
   ]
  },
  {
   "cell_type": "code",
   "execution_count": 9,
   "metadata": {},
   "outputs": [
    {
     "data": {
      "text/plain": [
       "tensor([[1., 0., 0., 0., 0.],\n",
       "        [0., 1., 0., 0., 0.],\n",
       "        [0., 0., 1., 0., 0.],\n",
       "        [0., 0., 0., 1., 0.]])"
      ]
     },
     "execution_count": 9,
     "metadata": {},
     "output_type": "execute_result"
    }
   ],
   "source": [
    "torch.eye(4,5)"
   ]
  },
  {
   "cell_type": "markdown",
   "metadata": {},
   "source": [
    "8. Создать вектор размера 25, заполнить элементами со значением pi"
   ]
  },
  {
   "cell_type": "code",
   "execution_count": 15,
   "metadata": {},
   "outputs": [
    {
     "data": {
      "text/plain": [
       "tensor([3.1416, 3.1416, 3.1416, 3.1416, 3.1416, 3.1416, 3.1416, 3.1416, 3.1416,\n",
       "        3.1416, 3.1416, 3.1416, 3.1416, 3.1416, 3.1416, 3.1416, 3.1416, 3.1416,\n",
       "        3.1416, 3.1416, 3.1416, 3.1416, 3.1416, 3.1416, 3.1416])"
      ]
     },
     "execution_count": 15,
     "metadata": {},
     "output_type": "execute_result"
    }
   ],
   "source": [
    "torch.full([25], np.pi)"
   ]
  },
  {
   "cell_type": "markdown",
   "metadata": {},
   "source": [
    "9. Умножить матрицу размера 9, заполненная от 0 до 8, поэлементно на любое число"
   ]
  },
  {
   "cell_type": "code",
   "execution_count": 20,
   "metadata": {},
   "outputs": [
    {
     "name": "stdout",
     "output_type": "stream",
     "text": [
      "tensor([[ 0,  3,  6],\n",
      "        [ 9, 12, 15],\n",
      "        [18, 21, 24]])\n"
     ]
    }
   ],
   "source": [
    "A = torch.tensor(np.arange(9).reshape(3,3))\n",
    "A = torch.multiply(A,3)\n",
    "print(A)\n"
   ]
  },
  {
   "cell_type": "markdown",
   "metadata": {},
   "source": [
    "10. Создать произвольный тензор с типом данных int8"
   ]
  },
  {
   "cell_type": "code",
   "execution_count": 22,
   "metadata": {},
   "outputs": [
    {
     "data": {
      "text/plain": [
       "tensor([1, 2, 3, 4], dtype=torch.int8)"
      ]
     },
     "execution_count": 22,
     "metadata": {},
     "output_type": "execute_result"
    }
   ],
   "source": [
    "torch.tensor([1,2, 3, 4], dtype = torch.int8)"
   ]
  },
  {
   "cell_type": "markdown",
   "metadata": {},
   "source": [
    "11. Изменить тип данных из пункта 10 на int64"
   ]
  },
  {
   "cell_type": "code",
   "execution_count": 24,
   "metadata": {},
   "outputs": [
    {
     "data": {
      "text/plain": [
       "tensor([1, 2, 3, 4])"
      ]
     },
     "execution_count": 24,
     "metadata": {},
     "output_type": "execute_result"
    }
   ],
   "source": [
    "torch.tensor([1,2, 3, 4], dtype = torch.int64)"
   ]
  },
  {
   "cell_type": "markdown",
   "metadata": {},
   "source": [
    "12. Создать случайный тензор размера 4x5 и найти среднее по 2му столбцу."
   ]
  },
  {
   "cell_type": "code",
   "execution_count": 9,
   "metadata": {},
   "outputs": [
    {
     "name": "stdout",
     "output_type": "stream",
     "text": [
      "tensor([[0, 1, 2],\n",
      "        [3, 4, 5],\n",
      "        [6, 7, 8]])\n"
     ]
    },
    {
     "data": {
      "text/plain": [
       "tensor(4.)"
      ]
     },
     "execution_count": 9,
     "metadata": {},
     "output_type": "execute_result"
    }
   ],
   "source": [
    "A = torch.arange(9).reshape(3,3)\n",
    "print(A)\n",
    "torch.mean(A.float(),dim = 0)[1]"
   ]
  },
  {
   "cell_type": "markdown",
   "metadata": {},
   "source": [
    "13. Создать пустой тензор произвольных размеров"
   ]
  },
  {
   "cell_type": "code",
   "execution_count": 25,
   "metadata": {},
   "outputs": [
    {
     "data": {
      "text/plain": [
       "tensor([-1.5933e+01,  4.5873e-41, -1.5933e+01,  4.5873e-41,  0.0000e+00,\n",
       "         0.0000e+00,  0.0000e+00,  0.0000e+00,  0.0000e+00,  0.0000e+00,\n",
       "         7.7052e+31,  7.2148e+22,  1.5766e-19,  1.0256e-08,  1.0255e-08,\n",
       "         3.0270e+12,  1.0839e-08,  1.0549e-08,  1.7090e-04,  1.2963e+16,\n",
       "         2.1707e-18,  7.0952e+22,  1.7748e+28,  1.8176e+31,  7.2708e+31,\n",
       "         5.0778e+31,  3.2608e-12,  1.7728e+28,  7.0367e+22,  2.1715e-18,\n",
       "         1.3435e-05,  3.3857e-06])"
      ]
     },
     "execution_count": 25,
     "metadata": {},
     "output_type": "execute_result"
    }
   ],
   "source": [
    "torch.empty(32)"
   ]
  },
  {
   "cell_type": "markdown",
   "metadata": {},
   "source": [
    "14. Скалярно умножить 2 вектора"
   ]
  },
  {
   "cell_type": "code",
   "execution_count": 38,
   "metadata": {},
   "outputs": [
    {
     "name": "stdout",
     "output_type": "stream",
     "text": [
      "tensor(-0.2890)\n"
     ]
    }
   ],
   "source": [
    "A = torch.randn(3)\n",
    "B = torch.randn(3)\n",
    "C = torch.dot(A,B)\n",
    "print(C)"
   ]
  },
  {
   "cell_type": "markdown",
   "metadata": {},
   "source": [
    "15. Умножить матрицу на вектор"
   ]
  },
  {
   "cell_type": "code",
   "execution_count": 47,
   "metadata": {},
   "outputs": [
    {
     "name": "stdout",
     "output_type": "stream",
     "text": [
      "tensor([14, 32, 50])\n",
      "tensor([[1, 2, 3],\n",
      "        [4, 5, 6],\n",
      "        [7, 8, 9]])\n"
     ]
    }
   ],
   "source": [
    "A = torch.arange(1,10).reshape(3,3)\n",
    "B = torch.tensor([1,2,3])\n",
    "C = torch.matmul(A,B)\n",
    "print(C)\n",
    "print(A)"
   ]
  },
  {
   "cell_type": "markdown",
   "metadata": {},
   "source": [
    "16. Перемножить 2D матрицы "
   ]
  },
  {
   "cell_type": "code",
   "execution_count": 48,
   "metadata": {},
   "outputs": [
    {
     "name": "stdout",
     "output_type": "stream",
     "text": [
      "tensor([[ 84,  90,  96],\n",
      "        [201, 216, 231],\n",
      "        [318, 342, 366]])\n",
      "tensor([[1, 2, 3],\n",
      "        [4, 5, 6],\n",
      "        [7, 8, 9]])\n",
      "tensor([[10, 11, 12],\n",
      "        [13, 14, 15],\n",
      "        [16, 17, 18]])\n"
     ]
    }
   ],
   "source": [
    "A = torch.arange(1,10).reshape(3,3)\n",
    "B = torch.arange(10, 19).reshape(3,3)\n",
    "C = torch.matmul(A, B)\n",
    "print(C)\n",
    "print(A)\n",
    "print(B)"
   ]
  },
  {
   "cell_type": "markdown",
   "metadata": {},
   "source": [
    "17. Перемножить 3D тензоры"
   ]
  },
  {
   "cell_type": "code",
   "execution_count": 52,
   "metadata": {},
   "outputs": [
    {
     "name": "stdout",
     "output_type": "stream",
     "text": [
      "tensor([[[  15,   18,   21],\n",
      "         [  42,   54,   66],\n",
      "         [  69,   90,  111]],\n",
      "\n",
      "        [[ 366,  396,  426],\n",
      "         [ 474,  513,  552],\n",
      "         [ 582,  630,  678]],\n",
      "\n",
      "        [[1203, 1260, 1317],\n",
      "         [1392, 1458, 1524],\n",
      "         [1581, 1656, 1731]]])\n"
     ]
    }
   ],
   "source": [
    "A = torch.arange(27).reshape(3,3,3)\n",
    "B = torch.arange(27).reshape(3,3,3)\n",
    "C = torch.matmul(A, B)\n",
    "print(C)\n"
   ]
  },
  {
   "cell_type": "markdown",
   "metadata": {},
   "source": [
    "18. Создать вектор с нормальным распределением и вывести элементы больше 0.5"
   ]
  },
  {
   "cell_type": "code",
   "execution_count": 35,
   "metadata": {},
   "outputs": [
    {
     "data": {
      "text/plain": [
       "tensor([1.5970, 1.0969, 0.8087])"
      ]
     },
     "execution_count": 35,
     "metadata": {},
     "output_type": "execute_result"
    }
   ],
   "source": [
    "A = torch.randn(10)\n",
    "A[A > 0.5]"
   ]
  },
  {
   "cell_type": "markdown",
   "metadata": {},
   "source": [
    "19. Создать матрицу 3х3 заполненную единицами и заменить 1й столбец на 4"
   ]
  },
  {
   "cell_type": "code",
   "execution_count": 18,
   "metadata": {},
   "outputs": [
    {
     "name": "stdout",
     "output_type": "stream",
     "text": [
      "tensor([[4., 1., 1.],\n",
      "        [4., 1., 1.],\n",
      "        [4., 1., 1.]])\n"
     ]
    }
   ],
   "source": [
    "A = torch.ones(3,3)\n",
    "A[: , 0] = 4\n",
    "print(A)"
   ]
  },
  {
   "cell_type": "markdown",
   "metadata": {},
   "source": [
    "20. Создать матрицу и вывести сумму по каждой строке"
   ]
  },
  {
   "cell_type": "code",
   "execution_count": 14,
   "metadata": {},
   "outputs": [
    {
     "data": {
      "text/plain": [
       "tensor(9.)"
      ]
     },
     "execution_count": 14,
     "metadata": {},
     "output_type": "execute_result"
    }
   ],
   "source": [
    "A = torch.ones(3,3)\n",
    "torch.sum(A)\n",
    "torch.sum(A)\n",
    "torch.sum(A)"
   ]
  },
  {
   "cell_type": "markdown",
   "metadata": {},
   "source": [
    "20. Создать матрицу и вывести среднее по каждому столбцу"
   ]
  },
  {
   "cell_type": "code",
   "execution_count": 23,
   "metadata": {},
   "outputs": [
    {
     "name": "stdout",
     "output_type": "stream",
     "text": [
      "tensor([[0, 1, 2],\n",
      "        [3, 4, 5],\n",
      "        [6, 7, 8]])\n",
      "tensor([3., 4., 5.])\n"
     ]
    }
   ],
   "source": [
    "A = torch.arange(9).reshape(3,3)\n",
    "print(A)\n",
    "print(torch.mean(A.float(),dim = 0))"
   ]
  },
  {
   "cell_type": "markdown",
   "metadata": {},
   "source": [
    "21. Создать 2 вектора и сконкатенировать по 1 оси"
   ]
  },
  {
   "cell_type": "code",
   "execution_count": 24,
   "metadata": {},
   "outputs": [
    {
     "data": {
      "text/plain": [
       "tensor([0, 1, 2, 3, 0, 1, 2, 3])"
      ]
     },
     "execution_count": 24,
     "metadata": {},
     "output_type": "execute_result"
    }
   ],
   "source": [
    "A = torch.arange(4)\n",
    "B = torch.arange(4)\n",
    "torch.concat([A,B])"
   ]
  },
  {
   "cell_type": "markdown",
   "metadata": {},
   "source": [
    "22. Перемножим две большие единичные матрицы. \n",
    "Сначал на центральном процессоре, затем попробуйте на GPU"
   ]
  },
  {
   "cell_type": "code",
   "execution_count": null,
   "metadata": {},
   "outputs": [
    {
     "name": "stdout",
     "output_type": "stream",
     "text": [
      "Время умножения на CPU: 0.5562 сек\n",
      "Используем устройство: cuda\n",
      "Время умножения на GPU: 0.1069 сек\n"
     ]
    }
   ],
   "source": [
    "import time\n",
    "\n",
    "size = 5000 \n",
    "\n",
    "\n",
    "A = torch.ones(size, size, dtype=torch.float32)\n",
    "B = torch.ones(size, size, dtype=torch.float32)\n",
    "\n",
    "\n",
    "start = time.time()\n",
    "C_cpu = torch.matmul(A, B)\n",
    "end = time.time()\n",
    "print(f\"Время умножения на CPU: {end - start:.4f} сек\")\n",
    "\n",
    "\n",
    "device = \"cuda\" if torch.cuda.is_available() else \"cpu\"\n",
    "print(f\"Используем устройство: {device}\")\n",
    "\n",
    "A_gpu = A.to(device)\n",
    "B_gpu = B.to(device)\n",
    "\n",
    "start = time.time()\n",
    "C_gpu = torch.matmul(A_gpu, B_gpu) \n",
    "torch.cuda.synchronize() \n",
    "end = time.time()\n",
    "print(f\"Время умножения на GPU: {end - start:.4f} сек\")\n"
   ]
  }
 ],
 "metadata": {
  "kernelspec": {
   "display_name": "Python 3",
   "language": "python",
   "name": "python3"
  },
  "language_info": {
   "codemirror_mode": {
    "name": "ipython",
    "version": 3
   },
   "file_extension": ".py",
   "mimetype": "text/x-python",
   "name": "python",
   "nbconvert_exporter": "python",
   "pygments_lexer": "ipython3",
   "version": "3.10.12"
  }
 },
 "nbformat": 4,
 "nbformat_minor": 2
}
